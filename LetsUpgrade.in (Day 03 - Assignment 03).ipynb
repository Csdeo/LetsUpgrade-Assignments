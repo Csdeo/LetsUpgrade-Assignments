{
    "cells": [
        {
            "cell_type": "markdown",
            "metadata": {},
            "source": "   ## Assignment 03 - Day 03 - PYTHON (LetsUpgrade.in)\n   - Yogesh Raghupati (yogeshraghupati13396@gmail.com)"
        },
        {
            "cell_type": "markdown",
            "metadata": {},
            "source": "### Q1. \n### Program for taking one number a input and then using if elif else concept, assign a grade to the input number from A, B, C, D, E, Fail."
        },
        {
            "cell_type": "code",
            "execution_count": 1,
            "metadata": {},
            "outputs": [
                {
                    "name": "stdout",
                    "output_type": "stream",
                    "text": "Enter your DIP SCORE: 97\n97\nYour Percentage is 97.0 %\nYour Grade is A\n"
                }
            ],
            "source": "x = input(\"Enter your DIP SCORE: \") \nprint(x)\n\nif __name__ == \"__main__\": \n\n\t# Store marks of all the subjects \n\t# in an array \n\tmarks = [int (x)] \n\n\t# Max marks will be 100 * number \n\t# of subjects \n\tmax_marks = len(marks)* 100\n\n\t# Initialize student's total \n\t# marks to 0 \n\ttotal = 0\n\n\t# Initialize student's grade \n\t# marks to F \n\tgrade = 'F'\n\n\t# Traverse though the marks array \n\t# to find the sum. \n\tfor i in range(len(marks)): \n\t\ttotal += marks[i] \n\n\t# Calculate the percentage, \n\tpercentage = ((total) /max_marks) * 100\nif (percentage > 100): \n\tprint(\"INVALID ENTRY\")\nelif (percentage >= 90 and\n\tpercentage <= 100): \n\tprint(\"Your Percentage is\",percentage,\"%\")\n\tprint (\"Your Grade is A\") \nelif (percentage >= 80 and\n\tpercentage <= 89): \n\tprint(\"Your Percentage is\",percentage,\"%\")\n\tprint (\"Your Grade is B\") \nelif (percentage >= 60 and\n\tpercentage <= 79): \n\tprint(\"Your Percentage is\",percentage,\"%\")\n\tprint (\"Your Grade is C\")\nelif (percentage >= 40 and\n\tpercentage <= 59):\n\tprint(\"Your Percentage is\",percentage,\"%\")\n\tprint (\"Your Grade is D\")\nelif (percentage >= 20 and\n\tpercentage <= 39):\n\tprint(\"Your Percentage is\",percentage,\"%\")\n\tprint (\"Your Grade is E\")\nelse: \n\tprint (\"You are FAILED\")                \n"
        },
        {
            "cell_type": "markdown",
            "metadata": {},
            "source": "## Q1 Modified (For 4 subjects)"
        },
        {
            "cell_type": "code",
            "execution_count": 2,
            "metadata": {},
            "outputs": [
                {
                    "name": "stdout",
                    "output_type": "stream",
                    "text": "Enter your DIP SCORE: 78\n78\nEnter your VLSI SCORE: 58\n58\nEnter your IOT SCORE: 89\n89\nEnter your EDM SCORE: 47\n47\nYour Percentage is 68.0 %\nYour Grade is C\n"
                }
            ],
            "source": "# Python3 program to assign grades \n# to a student using nested if-else \nx = input(\"Enter your DIP SCORE: \") \nprint(x)\ny = input(\"Enter your VLSI SCORE: \") \nprint(y)\na = input(\"Enter your IOT SCORE: \") \nprint(a)\nb = input(\"Enter your EDM SCORE: \") \nprint(b)\nif __name__ == \"__main__\": \n\n\t# Store marks of all the subjects \n\t# in an array \n\tmarks = [int (x), int (y), int (a), int (b)] \n\n\t# Max marks will be 100 * number \n\t# of subjects \n\tmax_marks = len(marks)* 100\n\n\t# Initialize student's total \n\t# marks to 0 \n\ttotal = 0\n\n\t# Initialize student's grade \n\t# marks to F \n\tgrade = 'F'\n\n\t# Traverse though the marks array \n\t# to find the sum. \n\tfor i in range(len(marks)): \n\t\ttotal += marks[i] \n\n\t# Calculate the percentage. \n\t# Since all the marks are integer, \n\tpercentage = ((total) /max_marks) * 100\n\nif (percentage > 100): \n\tprint(\"INVALID ENTRY\")\nelif (percentage >= 90 and\n\tpercentage <= 100): \n\tprint(\"Your Percentage is\",percentage,\"%\")\n\tprint (\"Your Grade is A\") \nelif (percentage >= 80 and\n\tpercentage <= 89): \n\tprint(\"Your Percentage is\",percentage,\"%\")\n\tprint (\"Your Grade is B\")  \nelif (percentage >= 60 and\n\tpercentage <= 79): \n\tprint(\"Your Percentage is\",percentage,\"%\")\n\tprint (\"Your Grade is C\") \nelif (percentage >= 40 and\n\tpercentage <= 59): \n\tprint(\"Your Percentage is\",percentage,\"%\")\n\tprint (\"Your Grade is D\") \nelif (percentage >= 20 and\n\tpercentage <= 39): \n\tprint(\"Your Percentage is\",percentage,\"%\")\n\tprint (\"Your Grade is E\") \nelse: \n\tprint (\"You are FAILED\")     "
        },
        {
            "cell_type": "markdown",
            "metadata": {},
            "source": "# Q2.\n## Guessing Team India Score in 20-20 Cricket -\n### WAP that give you random score of Team India in a cricket match, and a players has to guess the score given by computer in between 1 to 250. The rules are:\n<ol type=\"1\">\n  <li>If a player's guess is less than 1 or greater than 250, say <b>\"Reduce your expectation for 20-20 Cricket\"</b></li>\n  <li>On a player's input, if their score guess is<ul>\n  <li>within 10 of the number, return <b>\"Close By, you are True Indian Fan!\"</b></li>\n      <li>further than 10 away from the number, return <b>\"You don't watch that much! \ud83d\ude1d\"</b></li>\n</ul></li>\n  \n"
        },
        {
            "cell_type": "code",
            "execution_count": 8,
            "metadata": {},
            "outputs": [
                {
                    "name": "stdout",
                    "output_type": "stream",
                    "text": "Enter your GUESS: 74\n74\n--------\nA random number from range is : 84\nClose By, you are True Indian Fan!\ud83e\udd73\ud83c\udf89\n"
                }
            ],
            "source": "# Python code to demonstrate the working of \n# choice() and randrange() \n\n# importing \"random\" for random operations \nimport random \nx = input(\"Enter your GUESS: \") \nprint(x)\n# Python program to illustrate if-elif-else ladder \n#!/usr/bin/python \ni = int(x)\nif (i < 1): \n\tprint (\"Reduce your expectation for 20-20 Cricket\") \nelif (i > 250): \n\tprint (\"Reduce your expectation for 20-20 Cricket\") \nelse: \n\tprint (\"--------\") \n# using randrange() to generate in range from 1 to 250. \nprint (\"A random number from range is : \",end=\"\")  \ny = random.randrange(1, 250)\nprint(y)\nb = int(y)\nif  (b >= int(x)+10 and b+10 <= int(x)): \n    print (\"Close By, you are True Indian Fan!\ud83e\udd73\ud83c\udf89\") \nelif (b <= int(x)+10 and b+10 >= int(x)): \n\tprint (\"Close By, you are True Indian Fan!\ud83e\udd73\ud83c\udf89\")\nelse: \n\tprint (\"You don't watch that much!\ud83d\ude1d\") "
        },
        {
            "cell_type": "markdown",
            "metadata": {},
            "source": "## THANK YOU"
        }
    ],
    "metadata": {
        "kernelspec": {
            "display_name": "Python 3",
            "language": "python",
            "name": "python3"
        },
        "language_info": {
            "codemirror_mode": {
                "name": "ipython",
                "version": 3
            },
            "file_extension": ".py",
            "mimetype": "text/x-python",
            "name": "python",
            "nbconvert_exporter": "python",
            "pygments_lexer": "ipython3",
            "version": "3.8.2"
        }
    },
    "nbformat": 4,
    "nbformat_minor": 4
}