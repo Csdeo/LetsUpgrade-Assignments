{
    "cells": [
        {
            "cell_type": "markdown",
            "metadata": {},
            "source": "   ## Assignment 04 - Day 04 - PYTHON (LetsUpgrade.in)\n   - Yogesh Raghupati (yogeshraghupati13396@gmail.com)"
        },
        {
            "cell_type": "markdown",
            "metadata": {},
            "source": "## Program to identify [1,1,5] in the given list in the same order, if yes print \"it's a Match\" else print \"it's Gone\""
        },
        {
            "cell_type": "code",
            "execution_count": 2,
            "metadata": {},
            "outputs": [
                {
                    "name": "stdout",
                    "output_type": "stream",
                    "text": "1\n6\n11\n16\n21\n26\n31\n36\n41\n46\n51\n"
                }
            ],
            "source": "for i in range (1,52,5):\n    print(i)"
        },
        {
            "cell_type": "markdown",
            "metadata": {},
            "source": "# Saikiran Sondarkar - Solution \ud83d\udc47 "
        },
        {
            "cell_type": "code",
            "execution_count": 8,
            "metadata": {},
            "outputs": [
                {
                    "name": "stdout",
                    "output_type": "stream",
                    "text": "Enter your of the element of the list -1\nEnter Yes/No -y\nEnter your of the element of the list -5\nEnter Yes/No -y\nEnter your of the element of the list -6\nEnter Yes/No -y\nEnter your of the element of the list -4\nEnter Yes/No -y\nEnter your of the element of the list -1\nEnter Yes/No -y\nEnter your of the element of the list -2\nEnter Yes/No -y\nEnter your of the element of the list -3\nEnter Yes/No -y\nEnter your of the element of the list -5\nEnter Yes/No -n\n"
                }
            ],
            "source": "super_list = []\nwhile True:\n    super_list.append(int(input(\"Enter your of the element of the list -\")))\n    char= input(\"Enter Yes/No -\")\n    char= char.lower()\n    if not char.startswith('y'):\n        break"
        },
        {
            "cell_type": "code",
            "execution_count": 9,
            "metadata": {},
            "outputs": [
                {
                    "data": {
                        "text/plain": "[1, 5, 6, 4, 1, 2, 3, 5]"
                    },
                    "execution_count": 9,
                    "metadata": {},
                    "output_type": "execute_result"
                }
            ],
            "source": "super_list"
        },
        {
            "cell_type": "code",
            "execution_count": 10,
            "metadata": {},
            "outputs": [
                {
                    "name": "stdout",
                    "output_type": "stream",
                    "text": "It's a Match\n"
                }
            ],
            "source": "# Step 2 - is to check the superlist and sublist together and give o/p\nsub_list = [1,1,5]\nnum = 0\nwhile num< len(super_list) and len(sub_list) > 0:\n    if super_list[num] == sub_list[0]:\n        sub_list.pop(0)\n        \n    num +=1\n    \nif len(sub_list) == 0 :\n    print(\"It's a Match\")\nelse:\n    print(\"It's Gone\")"
        },
        {
            "cell_type": "markdown",
            "metadata": {},
            "source": "## My Attempts ( with help of Google )\u274c "
        },
        {
            "cell_type": "code",
            "execution_count": 4,
            "metadata": {},
            "outputs": [
                {
                    "name": "stdout",
                    "output_type": "stream",
                    "text": "0 , 1\n1 , 3\n2 , 5\n3 , 7\n4 , 9\n"
                }
            ],
            "source": "# Python3 code to iterate over a list \nlist = [1, 3, 5, 7, 9] \n\n# Using enumerate() \nfor i, val in enumerate(list): \n\tprint (i, \",\",val) \n"
        },
        {
            "cell_type": "code",
            "execution_count": 3,
            "metadata": {},
            "outputs": [
                {
                    "name": "stdout",
                    "output_type": "stream",
                    "text": "[1, 2, 3, 4, 5, 6]\n"
                }
            ],
            "source": "# Python code to convert list of tuple into list \n\n# Importing \nimport itertools \n\n# List of tuple initialization \ntuple = [(1, 2), (3, 4), (5, 6)] \n\n# Using itertools \nout = list(itertools.chain(*tuple)) \n\n# printing output \nprint(out) \n"
        },
        {
            "cell_type": "code",
            "execution_count": 2,
            "metadata": {},
            "outputs": [
                {
                    "name": "stdout",
                    "output_type": "stream",
                    "text": "Enter number of elements : 5\n1\n5\n8\n8\n5\n[1, 5, 8, 8, 5]\n[1, 1, 5]\nOriginal list : [1, 5, 8, 8, 5]\nOriginal sub list : [1, 1, 5]\nIt's a Match\n"
                }
            ],
            "source": "# creating an empty list \nlst = [] \n\n# number of elemetns as input \nn = int(input(\"Enter number of elements : \")) \n\n# iterating till the range \nfor i in range(0, n): \n\tele = int(input()) \n\n\tlst.append(ele) # adding the element \n\t\nprint(lst) \nlist = [1,1,5]\nprint (list)\n\nsub_list = [1,1,5] \n\n# printing original lists \nprint (\"Original list : \" + str(lst)) \nprint (\"Original sub list : \" + str(sub_list)) \n\n# using all() to \n# check subset of list \nflag = 0\nif(set(sub_list).issubset(set(lst))): \n\tflag = 1\n\t\n# printing result \nif (flag) : \n\tprint (\"It's a Match\") \nelse : \n\tprint (\"It's Gone\") \n"
        },
        {
            "cell_type": "markdown",
            "metadata": {},
            "source": "<img src=\"https://images.pexels.com/photos/4133288/pexels-photo-4133288.png?auto=compress&cs=tinysrgb&dpr=2&h=650&w=940\">"
        },
        {
            "cell_type": "markdown",
            "metadata": {},
            "source": "# \" You can copy all you want but you will always be one step behind. \"\n### <p> |-----------------------LEARN------------------UNDERSTAND------------------------INNOVATE-------------------|</p>"
        }
    ],
    "metadata": {
        "kernelspec": {
            "display_name": "Python 3",
            "language": "python",
            "name": "python3"
        },
        "language_info": {
            "codemirror_mode": {
                "name": "ipython",
                "version": 3
            },
            "file_extension": ".py",
            "mimetype": "text/x-python",
            "name": "python",
            "nbconvert_exporter": "python",
            "pygments_lexer": "ipython3",
            "version": "3.8.2"
        }
    },
    "nbformat": 4,
    "nbformat_minor": 4
}