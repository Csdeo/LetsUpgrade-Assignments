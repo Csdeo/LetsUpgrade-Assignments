{
    "cells": [
        {
            "cell_type": "markdown",
            "metadata": {},
            "source": "   ## Assignment 05 - Day 05 - PYTHON (LetsUpgrade.in)\n   - Yogesh Raghupati (yogeshraghupati13396@gmail.com)"
        },
        {
            "cell_type": "code",
            "execution_count": 113,
            "metadata": {},
            "outputs": [
                {
                    "name": "stdout",
                    "output_type": "stream",
                    "text": "Provide your Input:8\n[{1: 1}, {2: 4}, {3: 9}, {4: 16}, {5: 25}, {6: 36}, {7: 49}, {8: 64}]\n"
                }
            ],
            "source": "# create a empty list\nlst = [] \n# Take input from the user\nn  = int(input(\"Provide your Input:\"))\n# import random for using range\nfor i in range(0,n):\n    a={(i+1):(i+1)**2}\n    lst.append(a)\nprint(lst)"
        },
        {
            "cell_type": "code",
            "execution_count": 114,
            "metadata": {},
            "outputs": [
                {
                    "name": "stdout",
                    "output_type": "stream",
                    "text": "Provide your Input:8\n[{1: 1}, {2: 4}, {3: 9}, {4: 16}, {5: 25}, {6: 36}, {7: 49}, {8: 64}]\n{1: 1, 2: 4, 3: 9, 4: 16, 5: 25, 6: 36, 7: 49, 8: 64}\n"
                }
            ],
            "source": "# create a empty list\nlst = [] \n# Take input from the user\nn  = int(input(\"Provide your Input:\"))\n# import random for using range\nfor i in range(0,n):\n    a={(i+1):(i+1)**2}\n    lst.append(a)\nprint(lst)\nfor i in range(1,n+1):\n    a={i:i*i}\n    dict1.update(a)\nprint(dict1)"
        },
        {
            "cell_type": "markdown",
            "metadata": {},
            "source": "### Q1.\nYou have seen how powerful dictionary data structure is.<br>\n<br>In this assignment, given a number n, you have to write a program that generates a dictionary d which contains (i,i*i), <br>where i is from 1 to n (both included).\n<br>Then you have to just print this dictionary d.\n<br>Example:\n<br>Input: 4\n<br>will give output as\n<br>{1: 1, 2: 4, 3: 9, 4: 16}\n<br>Input Format:\n<br>Take the number n in a single line.\n<br>Output Format:\n<br>Print the dictionary d in a single line.\n<br>Example:\n<br>Input:\n<br>8\n<br>Output:\n<br>{1: 1, 2: 4, 3: 9, 4: 16, 5: 25, 6: 36, 7: 49, 8: 64}\n<br><b>Explanation:</b>\n<br>Here n is 8, we will start from i=1, hence the first element of the dictionary is (1: 1), as i becomes 2, the second element of the dictionary becomes (2: 4) and so on.\nHence the output will be {1: 1, 2: 4, 3: 9, 4: 16, 5: 25, 6: 36, 7: 49, 8: 64}."
        },
        {
            "cell_type": "code",
            "execution_count": 116,
            "metadata": {},
            "outputs": [
                {
                    "name": "stdout",
                    "output_type": "stream",
                    "text": "Provide your Input:8\n{1: 1, 2: 4, 3: 9, 4: 16, 5: 25, 6: 36, 7: 49, 8: 64}\n"
                }
            ],
            "source": "# Take input from the user\nn  = int(input(\"Provide your Input:\"))\n# import random for using range\nfor i in range(1,n+1):\n    a={i:i*i}\n    dict1.update(a)\nprint(dict1)"
        },
        {
            "cell_type": "markdown",
            "metadata": {},
            "source": "### Q2.\n<br>You have also seen how list slicing is performed in python.\n<br>In this program, create a list of numbers from 1 to 50 named list_1. The numbers should\n<br>be present in the increasing order: Ex list_1 = [1,2,3,4,5,....,50]\n<br>i.e. index zero should be 1, index one should be 2, index two should be 3 and so on.\n<br>Given an input of two numbers, let's say a and b, you have to print the numbers returned\n<br>by the following command\n<br>list_1[a:b]\n<br>Input:\n<br>The first line of input contains two numbers a and b separated by a space.\n<br>NOTE: You can take two inputs in a single line using the following command:\n<br>a, b = input().split()\n<br>Make sure you convert the strings in a and b into integers using the int() command\n<br>Output:\n<br>Print the numbers in new line\n<br>Example:\n<br>Input:\n<br>2 6\n<br>Output:\n<br>3\n<br>4\n<br>5\n<br>6\n<br><b>Explanation:</b>\n<br>In this example, a is 2 and b is 6. The list_1 contains numbers from 1 to 50.\n<br>When you perform the operation list_1[a:b] which in this case is, list_1[2:6], it returns a\nlist of following numbers [3, 4, 5, 6]. Print the elements of this list with each element in a\nnew line."
        },
        {
            "cell_type": "code",
            "execution_count": 147,
            "metadata": {},
            "outputs": [
                {
                    "name": "stdout",
                    "output_type": "stream",
                    "text": "Enter number of elements : 50\n[1, 2, 3, 4, 5, 6, 7, 8, 9, 10, 11, 12, 13, 14, 15, 16, 17, 18, 19, 20, 21, 22, 23, 24, 25, 26, 27, 28, 29, 30, 31, 32, 33, 34, 35, 36, 37, 38, 39, 40, 41, 42, 43, 44, 45, 46, 47, 48, 49, 50]\nGive Two inputs : 4 20\n5 6 7 8 9 10 11 12 13 14 15 16 17 18 19 20 "
                }
            ],
            "source": "# creating an empty list \nlst = [] \n\n# number of elemetns as input \nn = int(input(\"Enter number of elements : \")) \n# iterating till the range \nfor i in range(0, n): \n\ta = i+1 \n\tlst.append(a) # adding the element \nprint(lst) \na, b = (input(\"Give Two inputs : \").split())\nfor i in range(int(a),int(b)):\n    print (lst[i],end=\" \")"
        },
        {
            "cell_type": "markdown",
            "metadata": {},
            "source": "<img src=\"https://images.pexels.com/photos/4133288/pexels-photo-4133288.png?auto=compress&cs=tinysrgb&dpr=2&h=650&w=940\">"
        },
        {
            "cell_type": "markdown",
            "metadata": {},
            "source": "# \" You can copy all you want but you will always be one step behind. \"\n### <p> |-----------------------LEARN------------------UNDERSTAND------------------------INNOVATE-------------------|</p>"
        }
    ],
    "metadata": {
        "kernelspec": {
            "display_name": "Python 3.6",
            "language": "python",
            "name": "python3"
        },
        "language_info": {
            "codemirror_mode": {
                "name": "ipython",
                "version": 3
            },
            "file_extension": ".py",
            "mimetype": "text/x-python",
            "name": "python",
            "nbconvert_exporter": "python",
            "pygments_lexer": "ipython3",
            "version": "3.6.9"
        }
    },
    "nbformat": 4,
    "nbformat_minor": 4
}