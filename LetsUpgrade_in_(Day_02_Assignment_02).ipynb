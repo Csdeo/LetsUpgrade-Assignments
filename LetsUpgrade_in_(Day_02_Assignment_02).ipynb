{
    "cells": [
        {
            "cell_type": "markdown",
            "metadata": {
                "colab_type": "text",
                "id": "HVh5Sc3gAnQD"
            },
            "source": "   ## Assignment 02 - Day 02 - PYTHON (LetsUpgrade.in)\n   - Yogesh Raghupati (yogeshraghupati13396@gmail.com)"
        },
        {
            "cell_type": "markdown",
            "metadata": {
                "colab_type": "text",
                "id": "65MMS9XEAnQI"
            },
            "source": "<a href=\"https://ibb.co/rdHwP2S\"><img src=\"https://i.ibb.co/nPjL2Mv/7.jpg\" alt=\"7\" border=\"0\"></a>"
        },
        {
            "cell_type": "markdown",
            "metadata": {
                "colab_type": "text",
                "id": "vGtot10yAnQJ"
            },
            "source": "<img src=\"https://media.geeksforgeeks.org/wp-content/uploads/20191023173512/Python-data-structure.jpg\" >\n"
        },
        {
            "cell_type": "markdown",
            "metadata": {
                "colab_type": "text",
                "id": "BZRNdSh8AnQK"
            },
            "source": "<a href=\"https://ibb.co/gVX3z2v\"><img src=\"https://i.ibb.co/m8YG6jv/8.jpg\" alt=\"8\" border=\"0\"></a>"
        },
        {
            "cell_type": "markdown",
            "metadata": {
                "colab_type": "text",
                "id": "mwHCF_l5CrBF"
            },
            "source": "<a href=\"https://ibb.co/M25DWC6\"><img src=\"https://i.ibb.co/h71Rhmf/Sequence-Type.jpg\" alt=\"Sequence-Type\" border=\"0\"></a>"
        },
        {
            "cell_type": "code",
            "execution_count": 5,
            "metadata": {
                "colab": {
                    "base_uri": "https://localhost:8080/",
                    "height": 51
                },
                "colab_type": "code",
                "id": "-R3Zpn3KC6t2",
                "outputId": "24e8e0c0-5789-41b4-d3a7-b4ec31dfa0d6"
            },
            "outputs": [
                {
                    "name": "stdout",
                    "output_type": "stream",
                    "text": "3\nAddition of a= 1 and b= 2  is c= 3\n"
                }
            ],
            "source": "#Addition using Python\n   a= 1\n   b= 2\n   c= a+b\n\n   print(c)\n   print(\"Addition of a=\",a,\"and b=\",b,\" is c=\",c)"
        },
        {
            "cell_type": "markdown",
            "metadata": {
                "colab_type": "text",
                "id": "d36OX-jCFTCW"
            },
            "source": "## Identifying the DATA TYPE"
        },
        {
            "cell_type": "code",
            "execution_count": 6,
            "metadata": {
                "colab": {
                    "base_uri": "https://localhost:8080/",
                    "height": 102
                },
                "colab_type": "code",
                "id": "dt6Tn4pzFFvL",
                "outputId": "ed02853a-e16a-47ef-d9ad-1ef43f329463"
            },
            "outputs": [
                {
                    "name": "stdout",
                    "output_type": "stream",
                    "text": "Type of a:  <class 'int'>\n\nType of b:  <class 'float'>\n\nType of c:  <class 'complex'>\n"
                }
            ],
            "source": "# Python program to \n# demonstrate numeric value \n\na = 5\nprint(\"Type of a: \", type(a))     \n\nb = 5.0\nprint(\"\\nType of b: \", type(b)) \n\nc = 2 + 4j\nprint(\"\\nType of c: \", type(c)) \n"
        },
        {
            "cell_type": "markdown",
            "metadata": {
                "colab_type": "text",
                "id": "-wpyLjUFGuc9"
            },
            "source": "## LARGE NUMBER using TYPE"
        },
        {
            "cell_type": "code",
            "execution_count": 10,
            "metadata": {
                "colab": {
                    "base_uri": "https://localhost:8080/",
                    "height": 85
                },
                "colab_type": "code",
                "id": "ttnmnWv3GNLO",
                "outputId": "ad283ef8-a778-4746-8fe4-e7ef12e7c06c"
            },
            "outputs": [
                {
                    "name": "stdout",
                    "output_type": "stream",
                    "text": "(20, 0, 0)\n<class 'tuple'>\n2000000\n<class 'int'>\n"
                }
            ],
            "source": "# Let us check with LARGE NUMBER\n\na= 20,000,00\nprint(a)\nprint(type(a))\na= 2000000\nprint(a)\nprint(type(a))"
        },
        {
            "cell_type": "markdown",
            "metadata": {
                "colab_type": "text",
                "id": "wvUt9R9RITni"
            },
            "source": "<a href=\"https://ibb.co/G7x7yvk\"><img src=\"https://i.ibb.co/31r12yW/1.jpg\" alt=\"1\" border=\"0\"></a><br /><a target='_blank' href='https://imgbb.com/'>@Dr. Ingle sir</a><br />"
        },
        {
            "cell_type": "code",
            "execution_count": 11,
            "metadata": {
                "colab": {
                    "base_uri": "https://localhost:8080/",
                    "height": 34
                },
                "colab_type": "code",
                "id": "PfbgWAv3Hq4-",
                "outputId": "441afdd6-1a69-4c54-db70-c47e02579a4e"
            },
            "outputs": [
                {
                    "name": "stdout",
                    "output_type": "stream",
                    "text": "123\n"
                }
            ],
            "source": "#Let us check with Num_1 \nNum_1= 123\nprint(Num_1)"
        },
        {
            "cell_type": "markdown",
            "metadata": {
                "colab_type": "text",
                "id": "l40taIUPJTlS"
            },
            "source": "<a href=\"https://ibb.co/njRgVrj\"><img src=\"https://i.ibb.co/CQW1XBQ/3.jpg\" alt=\"3\" border=\"0\"></a>"
        },
        {
            "cell_type": "code",
            "execution_count": 18,
            "metadata": {
                "colab": {
                    "base_uri": "https://localhost:8080/",
                    "height": 102
                },
                "colab_type": "code",
                "id": "qzuAyHcWJY4h",
                "outputId": "935e8949-85b8-432e-eae1-9d36c07dd902"
            },
            "outputs": [
                {
                    "name": "stdout",
                    "output_type": "stream",
                    "text": "s\nYogesh\nYogesh\nAhdeM \nAhdeM\n"
                }
            ],
            "source": "#Let us type the above code - @Dr. Ingle sir\n\nstr1 = 'Yogesh Raghupati' #String str1\nstr2 = 'AhdeM InFluencers' #String str2\n\n#Now let's PRINT IT\nprint(str1[4])\nprint(str1[0:6])\nprint(str1[-16:-10])\nprint(str2[0:6])\nprint(str2[-17:-12])"
        },
        {
            "cell_type": "markdown",
            "metadata": {
                "colab_type": "text",
                "id": "QPtZmtcvK_I0"
            },
            "source": "# Python Keywords"
        },
        {
            "cell_type": "markdown",
            "metadata": {
                "colab_type": "text",
                "id": "6Z4uQPQFL80e"
            },
            "source": "<img src=\"https://makemeanalyst.com/wp-content/uploads/2017/06/keywords-python.png\" >"
        },
        {
            "cell_type": "markdown",
            "metadata": {
                "colab_type": "text",
                "id": "qmOMYJ_0AnQ8"
            },
            "source": "### For more examples: <a href=\"https://www.geeksforgeeks.org/python-list/\">GEEKFORGEEKS</a>, <a href=\"https://www.w3schools.com/python/python_lists.asp\">W3Schools</a> "
        },
        {
            "cell_type": "markdown",
            "metadata": {
                "colab_type": "text",
                "id": "kgiyUt4cNHVA"
            },
            "source": "# Order of Operations (PEMDAS)\n## PEMDAS:\n <i>parenthesis, exponents, multiplication, division, addition, subtraction.</i> "
        },
        {
            "cell_type": "markdown",
            "metadata": {
                "colab_type": "text",
                "id": "XQWgddCvOjP0"
            },
            "source": "<a href=\"https://ibb.co/jDZ6sRh\"><img src=\"https://i.ibb.co/rHf7Nsk/4.jpg\" alt=\"4\" border=\"0\"></a>"
        },
        {
            "cell_type": "code",
            "execution_count": 22,
            "metadata": {
                "colab": {
                    "base_uri": "https://localhost:8080/",
                    "height": 34
                },
                "colab_type": "code",
                "id": "5IgzhHMAO7oC",
                "outputId": "7ea5d2bd-c6dc-4751-f807-e69f97752747"
            },
            "outputs": [
                {
                    "data": {
                        "text/plain": "-2"
                    },
                    "execution_count": 22,
                    "metadata": {
                        "tags": []
                    },
                    "output_type": "execute_result"
                }
            ],
            "source": "2+4-8\n"
        },
        {
            "cell_type": "code",
            "execution_count": 21,
            "metadata": {
                "colab": {
                    "base_uri": "https://localhost:8080/",
                    "height": 34
                },
                "colab_type": "code",
                "id": "NExBCH_pPfb6",
                "outputId": "56457459-1c1a-4805-f8a7-7e0d5fa19abf"
            },
            "outputs": [
                {
                    "data": {
                        "text/plain": "-2"
                    },
                    "execution_count": 21,
                    "metadata": {
                        "tags": []
                    },
                    "output_type": "execute_result"
                }
            ],
            "source": "(2+4)-8"
        },
        {
            "cell_type": "code",
            "execution_count": 23,
            "metadata": {
                "colab": {
                    "base_uri": "https://localhost:8080/",
                    "height": 34
                },
                "colab_type": "code",
                "id": "-IUhgOjzP5rk",
                "outputId": "68566749-0a62-4ce0-b14b-2a0ec01970cd"
            },
            "outputs": [
                {
                    "data": {
                        "text/plain": "-5"
                    },
                    "execution_count": 23,
                    "metadata": {
                        "tags": []
                    },
                    "output_type": "execute_result"
                }
            ],
            "source": "1+1**5-7"
        },
        {
            "cell_type": "code",
            "execution_count": 25,
            "metadata": {
                "colab": {
                    "base_uri": "https://localhost:8080/",
                    "height": 34
                },
                "colab_type": "code",
                "id": "Aa6Fcq4TQAzs",
                "outputId": "9a58c489-bd70-4b5a-e924-9531d12cb81a"
            },
            "outputs": [
                {
                    "data": {
                        "text/plain": "4782969"
                    },
                    "execution_count": 25,
                    "metadata": {
                        "tags": []
                    },
                    "output_type": "execute_result"
                }
            ],
            "source": "9**7"
        },
        {
            "cell_type": "markdown",
            "metadata": {
                "colab_type": "text",
                "id": "D5Msfn-PQRdj"
            },
            "source": "## With Strings, \n   - is Concatenation\n   - is Repetitions"
        },
        {
            "cell_type": "markdown",
            "metadata": {
                "colab_type": "text",
                "id": "tbKJg6VoQuPM"
            },
            "source": "<a href=\"https://ibb.co/6Y83KpY\"><img src=\"https://i.ibb.co/Nxr80kx/5.jpg\" alt=\"5\" border=\"0\"></a>"
        },
        {
            "cell_type": "code",
            "execution_count": 29,
            "metadata": {
                "colab": {
                    "base_uri": "https://localhost:8080/",
                    "height": 34
                },
                "colab_type": "code",
                "id": "sjCKzrKTQxn7",
                "outputId": "57937239-bcbe-47ca-f171-131809be3c74"
            },
            "outputs": [
                {
                    "data": {
                        "text/plain": "'Yogesh RaghupatiYogesh RaghupatiYogesh Raghupati'"
                    },
                    "execution_count": 29,
                    "metadata": {
                        "tags": []
                    },
                    "output_type": "execute_result"
                }
            ],
            "source": "\n\"Yogesh Raghupati\"*3"
        },
        {
            "cell_type": "code",
            "execution_count": 30,
            "metadata": {
                "colab": {
                    "base_uri": "https://localhost:8080/",
                    "height": 34
                },
                "colab_type": "code",
                "id": "0Qbihn6vRbFi",
                "outputId": "3a25b903-2473-4657-938c-1c20627b6e44"
            },
            "outputs": [
                {
                    "data": {
                        "text/plain": "'24'"
                    },
                    "execution_count": 30,
                    "metadata": {
                        "tags": []
                    },
                    "output_type": "execute_result"
                }
            ],
            "source": "'2'+'4'"
        },
        {
            "cell_type": "markdown",
            "metadata": {
                "colab_type": "text",
                "id": "Wpv9i3AxRhx7"
            },
            "source": "## Typecasting\n\n\n***What is Typecasting in Python?***\n\n<br>Convert one data type to another data type is called typecasting. Some situations, when you want to convert the data type.\n\nFor example, you want to add two numbers in which one existing value of a variable is an integer and the second is a string.\n\nThen you need to use Python typecasting to convert string data type in integer before adding.\n\nThere are some functions which used for Python type casting:\n\nint(): is used to specify integer literal. \u00c2 Construct an integer number from a string literal and Float.\n<br> str(): is used to specify the string literal. Construct a string type from an integer literal OR  float literal.\n<br> float(): is used to specify the float data types. Construct float literal from integer and string literal.\n<br> Let us take an example to understand this logic."
        },
        {
            "cell_type": "code",
            "execution_count": 31,
            "metadata": {
                "colab": {
                    "base_uri": "https://localhost:8080/",
                    "height": 68
                },
                "colab_type": "code",
                "id": "_GBBmzcaTHBy",
                "outputId": "009a38a1-5567-4630-f2d6-a5cee5efa9fa"
            },
            "outputs": [
                {
                    "name": "stdout",
                    "output_type": "stream",
                    "text": "3124.0\n30.343\n20.0\n"
                }
            ],
            "source": "# Example: Float Typecasting\nx=float(3124)\ny=float(30.343)\nz=float(\"20\")\nprint(x)\nprint(y)\nprint(z)"
        },
        {
            "cell_type": "code",
            "execution_count": 32,
            "metadata": {
                "colab": {
                    "base_uri": "https://localhost:8080/",
                    "height": 68
                },
                "colab_type": "code",
                "id": "HD_bExdLTvWz",
                "outputId": "89b986f5-8eca-4588-ce1b-0659a77477f5"
            },
            "outputs": [
                {
                    "name": "stdout",
                    "output_type": "stream",
                    "text": "2\n30\n20\n"
                }
            ],
            "source": "# Example: Int Typecasting\nx=int(2)\ny=int(30.0)\nz=int(\"20\")\nprint(x)\nprint(y)\nprint(z)"
        },
        {
            "cell_type": "code",
            "execution_count": 34,
            "metadata": {
                "colab": {
                    "base_uri": "https://localhost:8080/",
                    "height": 68
                },
                "colab_type": "code",
                "id": "-7efAqBeT8fs",
                "outputId": "c541be51-c6c4-4b58-fbc8-9f309cc4d244"
            },
            "outputs": [
                {
                    "name": "stdout",
                    "output_type": "stream",
                    "text": "Yogesh\n2342.0\n20\n"
                }
            ],
            "source": "# Example: String Typecasting\nx=str('Yogesh')\ny=str(2342.0)\nz=str(\"20\")\nprint(x)\nprint(y)\nprint(z)"
        },
        {
            "cell_type": "markdown",
            "metadata": {
                "colab_type": "text",
                "id": "qkiHcd3SVGYP"
            },
            "source": "# List | Tuple | Dictionary to String\n<a href=\"https://ibb.co/9r49trr\"><img src=\"https://i.ibb.co/gRWMVRR/6.jpg\" alt=\"6\" border=\"0\"></a>\n<a href=\"https://ibb.co/g63ntvQ\"><img src=\"https://i.ibb.co/0QcwYB1/7.jpg\" alt=\"7\" border=\"0\"></a>"
        },
        {
            "cell_type": "code",
            "execution_count": 38,
            "metadata": {
                "colab": {
                    "base_uri": "https://localhost:8080/",
                    "height": 34
                },
                "colab_type": "code",
                "id": "EB5fafD6X1MA",
                "outputId": "7d889042-9c84-4b4d-8f15-3460720eb1ec"
            },
            "outputs": [
                {
                    "data": {
                        "text/plain": "'[5, 4, 53, 4]'"
                    },
                    "execution_count": 38,
                    "metadata": {
                        "tags": []
                    },
                    "output_type": "execute_result"
                }
            ],
            "source": "str([5,4,53,4])"
        },
        {
            "cell_type": "code",
            "execution_count": 40,
            "metadata": {
                "colab": {
                    "base_uri": "https://localhost:8080/",
                    "height": 289
                },
                "colab_type": "code",
                "id": "YryOlvlCYHzs",
                "outputId": "8c470dcb-b275-4f2a-89d9-70b5cfcbd8ab"
            },
            "outputs": [
                {
                    "data": {
                        "text/plain": "['Y',\n 'o',\n 'g',\n 'e',\n 's',\n 'h',\n ' ',\n 'R',\n 'a',\n 'g',\n 'h',\n 'u',\n 'p',\n 'a',\n 't',\n 'i']"
                    },
                    "execution_count": 40,
                    "metadata": {
                        "tags": []
                    },
                    "output_type": "execute_result"
                }
            ],
            "source": "list('Yogesh Raghupati')"
        },
        {
            "cell_type": "code",
            "execution_count": 41,
            "metadata": {
                "colab": {
                    "base_uri": "https://localhost:8080/",
                    "height": 34
                },
                "colab_type": "code",
                "id": "DTRC00ZEYUUb",
                "outputId": "bfd038d8-413b-44e9-9d35-fdd220f69057"
            },
            "outputs": [
                {
                    "data": {
                        "text/plain": "[1, 4, 5, 7, 8]"
                    },
                    "execution_count": 41,
                    "metadata": {
                        "tags": []
                    },
                    "output_type": "execute_result"
                }
            ],
            "source": "list((1,4,5,7,8))\n"
        },
        {
            "cell_type": "code",
            "execution_count": 46,
            "metadata": {
                "colab": {
                    "base_uri": "https://localhost:8080/",
                    "height": 51
                },
                "colab_type": "code",
                "id": "wRzonnqQY0Ig",
                "outputId": "bc3c1c9b-05a4-408c-8762-ef67ee75b49d"
            },
            "outputs": [
                {
                    "name": "stdout",
                    "output_type": "stream",
                    "text": "[1, 3, 4, 5, 6, 6, 6]\n[456, 3, 4, 5, 6, 6, 6]\n"
                }
            ],
            "source": "l=[1,3,4,5,6,6,6]\nprint(l)\nl[0]=456\nprint(l)"
        },
        {
            "cell_type": "code",
            "execution_count": 47,
            "metadata": {
                "colab": {
                    "base_uri": "https://localhost:8080/",
                    "height": 231
                },
                "colab_type": "code",
                "id": "hsluYUaJZOWM",
                "outputId": "374e7479-4fc9-43cd-90ee-f02ab5608446"
            },
            "outputs": [
                {
                    "name": "stdout",
                    "output_type": "stream",
                    "text": "(1, 3, 4, 5, 6, 6, 6)\n"
                },
                {
                    "ename": "TypeError",
                    "evalue": "ignored",
                    "output_type": "error",
                    "traceback": [
                        "\u001b[0;31m---------------------------------------------------------------------------\u001b[0m",
                        "\u001b[0;31mTypeError\u001b[0m                                 Traceback (most recent call last)",
                        "\u001b[0;32m<ipython-input-47-dbfa632054a5>\u001b[0m in \u001b[0;36m<module>\u001b[0;34m()\u001b[0m\n\u001b[1;32m      1\u001b[0m \u001b[0ml\u001b[0m\u001b[0;34m=\u001b[0m\u001b[0;34m(\u001b[0m\u001b[0;36m1\u001b[0m\u001b[0;34m,\u001b[0m\u001b[0;36m3\u001b[0m\u001b[0;34m,\u001b[0m\u001b[0;36m4\u001b[0m\u001b[0;34m,\u001b[0m\u001b[0;36m5\u001b[0m\u001b[0;34m,\u001b[0m\u001b[0;36m6\u001b[0m\u001b[0;34m,\u001b[0m\u001b[0;36m6\u001b[0m\u001b[0;34m,\u001b[0m\u001b[0;36m6\u001b[0m\u001b[0;34m)\u001b[0m\u001b[0;34m\u001b[0m\u001b[0;34m\u001b[0m\u001b[0m\n\u001b[1;32m      2\u001b[0m \u001b[0mprint\u001b[0m\u001b[0;34m(\u001b[0m\u001b[0ml\u001b[0m\u001b[0;34m)\u001b[0m\u001b[0;34m\u001b[0m\u001b[0;34m\u001b[0m\u001b[0m\n\u001b[0;32m----> 3\u001b[0;31m \u001b[0ml\u001b[0m\u001b[0;34m[\u001b[0m\u001b[0;36m0\u001b[0m\u001b[0;34m]\u001b[0m\u001b[0;34m=\u001b[0m\u001b[0;36m456\u001b[0m\u001b[0;34m\u001b[0m\u001b[0;34m\u001b[0m\u001b[0m\n\u001b[0m\u001b[1;32m      4\u001b[0m \u001b[0mprint\u001b[0m\u001b[0;34m(\u001b[0m\u001b[0ml\u001b[0m\u001b[0;34m)\u001b[0m\u001b[0;34m\u001b[0m\u001b[0;34m\u001b[0m\u001b[0m\n",
                        "\u001b[0;31mTypeError\u001b[0m: 'tuple' object does not support item assignment"
                    ]
                }
            ],
            "source": "l=(1,3,4,5,6,6,6)\nprint(l)\nl[0]=456\nprint(l)"
        },
        {
            "cell_type": "markdown",
            "metadata": {
                "colab_type": "text",
                "id": "IGTeamIyAnS9"
            },
            "source": "# <b><center> - THANK YOU - </center></b>"
        }
    ],
    "metadata": {
        "colab": {
            "collapsed_sections": [],
            "name": "LetsUpgrade.in (Day 02 - Assignment 02).ipynb",
            "provenance": []
        },
        "kernelspec": {
            "display_name": "Python 3",
            "language": "python",
            "name": "python3"
        },
        "language_info": {
            "codemirror_mode": {
                "name": "ipython",
                "version": 3
            },
            "file_extension": ".py",
            "mimetype": "text/x-python",
            "name": "python",
            "nbconvert_exporter": "python",
            "pygments_lexer": "ipython3",
            "version": "3.7.6"
        }
    },
    "nbformat": 4,
    "nbformat_minor": 0
}