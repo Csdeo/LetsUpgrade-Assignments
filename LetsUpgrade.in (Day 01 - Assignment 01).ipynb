{
    "cells": [
        {
            "cell_type": "markdown",
            "metadata": {},
            "source": "   ## Assignment 01 - Day 01 - PYTHON (LetsUpgrade.in)\n   - Yogesh Raghupati (yogeshraghupati13396@gmail.com)"
        },
        {
            "cell_type": "markdown",
            "metadata": {},
            "source": "# 1. List and its Default Functions"
        },
        {
            "cell_type": "markdown",
            "metadata": {},
            "source": "Lists are just like the arrays, declared in other languages. Lists need not be homogeneous always which makes it a most powerful tool in Python. A single list may contain DataTypes like Integers, Strings, as well as Objects. Lists are mutable, and hence, they can be altered even after their creation.\n\nList in Python are ordered and have a definite count. The elements in a list are indexed according to a definite sequence and the indexing of a list is done with 0 being the first index. Each element in the list has its definite place in the list, which allows duplicating of elements in the list, with each element having its own distinct place and credibility.\n\n<b> Note- Lists are a useful tool for preserving a sequence of data and further iterating over it. </b>"
        },
        {
            "cell_type": "markdown",
            "metadata": {},
            "source": "## <b><center> LIST METHODS WITH BUILT-IN FUNCTIONS </center></b>"
        },
        {
            "cell_type": "markdown",
            "metadata": {},
            "source": "### List Methods\n<!DOCTYPE html>\n<html>\n<head>\n<style>\ntable {\n  font-family: arial, sans-serif;\n  border-collapse: collapse;\n  width: 100%;\n}\n\ntd, th {\n  border: 1px solid #dddddd;\n  text-align: left;\n  padding: 8px;\n}\n\ntr:nth-child(even) {\n  background-color: #dddddd;\n}\n</style>\n</head>\n<body>\n\n<table>\n  <tr>\n    <th>FUNCTION</th>\n    <th>DESCRIPTION</th>\n  </tr>\n  <tr>\n    <td>Append()</td>\n    <td>Add an element to the end of the list</td>\n  </tr>\n  <tr>\n    <td>Insert()</td>\n    <td>Insert an item at the defined index</td>\n  </tr>\n  <tr>\n    <td> Remove()</td>\n    <td>Removes an item from the list</td>\n  </tr>\n  <tr>\n    <td>Pop()</td>\n    <td>Removes and returns an element at the given index</td>\n  </tr>\n  <tr>\n    <td> Clear()</td>\n    <td>Removes all items from the list</td>\n  </tr>\n  <tr>\n    <td>Index()</td>\n    <td>Returns the index of the first matched item</td>\n  </tr>\n    <tr>\n    <td> Count()</td>\n    <td>Returns the count of number of items passed as an argument</td>\n  </tr>\n  <tr>\n    <td>Sort()</td>\n    <td>Sort items in a list in ascending order</td>\n  </tr>\n  <tr>\n    <td> Reverse()</td>\n    <td>Reverse the order of items in the list</td>\n  </tr>\n  <tr>\n    <td>copy()</td>\n    <td>Returns a copy of the list</td>\n  </tr>\n</table>\n\n</body>\n</html>\n\n\n"
        },
        {
            "cell_type": "markdown",
            "metadata": {},
            "source": "### Built-in functions with List\n<!DOCTYPE html>\n<html>\n<head>\n<style>\ntable {\n  font-family: arial, sans-serif;\n  border-collapse: collapse;\n  width: 100%;\n}\ntd, th {\n  border: 1px solid #dddddd;\n  text-align: left;\n  padding: 8px;\n}\n\ntr:nth-child(even) {\n  background-color: #dddddd;\n}\n</style>\n</head>\n<body>\n<table>\n  <tr>\n    <th>FUNCTION</th>\n    <th>DESCRIPTION</th>\n  </tr>\n  <tr>\n    <td>reduce()</td>\n    <td>apply a particular function passed in its argument to all of the list elements stores the intermediate result and only returns the final summation value</td>\n  </tr>\n  <tr>\n    <td>ord()</td>\n    <td>Returns an integer representing the Unicode code point of the given Unicode character\n</td>\n  </tr>\n  <tr>\n    <td> cmp()</td>\n    <td>This function returns 1, if first list is \u201cgreater\u201d than second list</td>\n  </tr>\n  <tr>\n    <td>max()</td>\n    <td>return maximum element of given list</td>\n  </tr>\n  <tr>\n    <td> min()</td>\n    <td>return minimum element of given list</td>\n  </tr>\n  <tr>\n    <td>all()</td>\n    <td>Returns true if all element are true or if list is empty</td>\n  </tr>\n    <tr>\n    <td> any()</td>\n    <td>return true if any element of the list is true. if list is empty, return false</td>\n  </tr>\n  <tr>\n    <td>len()</td>\n    <td>Returns length of the list or size of the list\n</td>\n  </tr>\n  <tr>\n    <td> enumerate()</td>\n    <td>Returns enumerate object of list\n</td>\n  </tr>\n  <tr>\n    <td>accumulate()</td>\n    <td>apply a particular function passed in its argument to all of the list elements returns a list containing the intermediate results</td>\n  </tr>\n    <tr>\n    <td>filter()</td>\n    <td>tests if each element of a list true or not\n</td>\n  </tr>\n  <tr>\n    <td> map()\t</td>\n    <td>returns a list of the results after applying the given function to each item of a given iterable\n</td>\n  </tr>\n  <tr>\n    <td>lambda()</td>\n    <td>This function can have any number of arguments but only one expression, which is evaluated and returned.</td>\n  </tr>\n</table>\n\n</body>\n</html>\n"
        },
        {
            "cell_type": "code",
            "execution_count": 1,
            "metadata": {},
            "outputs": [
                {
                    "name": "stdout",
                    "output_type": "stream",
                    "text": "Intial blank List: \n[]\n\nList with the use of String: \n['Yogesh Raghupati']\n\nList containing multiple values: \nYogesh \nLetsUpgrade.in Student\n\nMulti-Dimensional List: \n[['Yogesh', 'For'], ['LetsUpgrade.in Student']]\n"
                }
            ],
            "source": "# Python program to demonstrate \n# Creation of List \n\n# Creating a List \nList = [] \nprint(\"Intial blank List: \") \nprint(List) \n\n# Creating a List with \n# the use of a String \nList = ['Yogesh Raghupati'] \nprint(\"\\nList with the use of String: \") \nprint(List) \n\n# Creating a List with \n# the use of multiple values \nList = [\"Yogesh \", \"For\", \"LetsUpgrade.in Student\"] \nprint(\"\\nList containing multiple values: \") \nprint(List[0]) \nprint(List[2]) \n\n# Creating a Multi-Dimensional List \n# (By Nesting a list inside a List) \nList = [['Yogesh', 'For'] , ['LetsUpgrade.in Student']] \nprint(\"\\nMulti-Dimensional List: \") \nprint(List) \n"
        },
        {
            "cell_type": "markdown",
            "metadata": {},
            "source": "### <center>USING SOME DEFAULT FUNCTIONS</center>\n"
        },
        {
            "cell_type": "code",
            "execution_count": 2,
            "metadata": {},
            "outputs": [
                {
                    "name": "stdout",
                    "output_type": "stream",
                    "text": "Initial blank List: \n[]\n\nList after Addition of Three elements: \n[1, 2, 4]\n"
                }
            ],
            "source": "# Python program to demonstrate \n# Addition of elements in a List \n\n# Creating a List \nList = [] \nprint(\"Initial blank List: \") \nprint(List) \n\n# Addition of Elements \n# in the List \nList.append(1) \nList.append(2) \nList.append(4) \nprint(\"\\nList after Addition of Three elements: \") \nprint(List) \n"
        },
        {
            "cell_type": "code",
            "execution_count": 3,
            "metadata": {},
            "outputs": [
                {
                    "name": "stdout",
                    "output_type": "stream",
                    "text": "Initial List: \n[1, 2, 3, 4]\n\nList after performing Insert Operation: \n['Yogesh Raghupati', 1, 2, 3, 12, 4]\n\nList after Removal of two elements: \n['Yogesh Raghupati', 1, 12, 4]\n\nList after popping a specific element: \n['Yogesh Raghupati', 1, 4]\n\nList after performing Extend Operation: \n['Yogesh Raghupati', 1, 4, 8, 'LetsUpgrade.in Student', 'Always']\n"
                }
            ],
            "source": "# Python program to demonstrate \n# Addition of elements in a List \n\n# Creating a List \nList = [1,2,3,4] \nprint(\"Initial List: \") \nprint(List) \n\n# Addition of Element at \n# specific Position \n# (using Insert Method) \nList.insert(3, 12) \nList.insert(0, 'Yogesh Raghupati') \nprint(\"\\nList after performing Insert Operation: \") \nprint(List) \n\n# Removing elements from List \n# using Remove() method \nList.remove(2) \nList.remove(3) \nprint(\"\\nList after Removal of two elements: \") \nprint(List) \n\n# Removing element at a  \n# specific location from the  \n# Set using the pop() method \nList.pop(2) \nprint(\"\\nList after popping a specific element: \") \nprint(List) \n# (using Extend Method) \nList.extend([8, 'LetsUpgrade.in Student', 'Always']) \nprint(\"\\nList after performing Extend Operation: \") \nprint(List) \n"
        },
        {
            "cell_type": "code",
            "execution_count": 4,
            "metadata": {},
            "outputs": [
                {
                    "name": "stdout",
                    "output_type": "stream",
                    "text": "['banana', 'cherry']\n[]\n['apple', 'banana', 'cherry']\n"
                }
            ],
            "source": "# (using Delete Method)\nthislist = [\"apple\", \"banana\", \"cherry\"]\ndel thislist[0]\nprint(thislist)\n\n# (using Clear Method)\nthislist = [\"apple\", \"banana\", \"cherry\"]\nthislist.clear()\nprint(thislist)\n\n# (using Copy Method)\nthislist = [\"apple\", \"banana\", \"cherry\"]\nmylist = thislist.copy()\nprint(mylist)"
        },
        {
            "cell_type": "markdown",
            "metadata": {},
            "source": "### For more examples: <a href=\"https://www.geeksforgeeks.org/python-list/\">GEEKFORGEEKS</a>, <a href=\"https://www.w3schools.com/python/python_lists.asp\">W3Schools</a> "
        },
        {
            "cell_type": "markdown",
            "metadata": {},
            "source": "# 2. Dictionary and its Default Functions\n\n\n\n"
        },
        {
            "cell_type": "markdown",
            "metadata": {},
            "source": "\n<b>Dictionary</b> in Python is an unordered collection of data values, used to store data values like a map, which unlike other Data Types that hold only single value as an element, Dictionary holds key:value pair. Key value is provided in the dictionary to make it more optimized.\n\n<b>Note \u2013 Keys in a dictionary doesn\u2019t allows Polymorphism.</b>"
        },
        {
            "cell_type": "markdown",
            "metadata": {},
            "source": "<a href=\"https://ibb.co/HtSCYdz\"><img src=\"https://i.ibb.co/7nfQV4W/1.jpg\" alt=\"1\" border=\"0\"></a>"
        },
        {
            "cell_type": "markdown",
            "metadata": {},
            "source": "<a href=\"https://ibb.co/QkN0FbR\"><img src=\"https://i.ibb.co/gdTYMjp/2.jpg\" alt=\"2\" border=\"0\"></a>"
        },
        {
            "cell_type": "code",
            "execution_count": 5,
            "metadata": {},
            "outputs": [
                {
                    "name": "stdout",
                    "output_type": "stream",
                    "text": "\nDictionary with the use of Integer Keys: \n{1: 'Yogesh', 2: 'Raghupati', 3: 'LetsUpgrade.in'}\n\nDictionary with the use of Mixed Keys: \n{'Name': 'Yogesh Raghupati', 1: [1, 2, 3, 4]}\nEmpty Dictionary: \n{}\n\nDictionary with the use of dict(): \n{1: 'Yogesh', 2: 'Raghupati', 3: 'LetsUpgrade.in'}\n\nDictionary with each item as a pair: \n{1: 'Yogesh Raghupati', 2: 'LetsUpgrade.in'}\n\nDictionary after adding 3 elements: \n{1: 'Yogesh Raghupati', 2: 'For', 0: 'Geeks', 3: 1}\n\nAccessing a element using get:\n1\n"
                }
            ],
            "source": "# Creating a Dictionary \n# with Integer Keys \nDict = {1: 'Yogesh', 2: 'Raghupati', 3: 'LetsUpgrade.in'} \nprint(\"\\nDictionary with the use of Integer Keys: \") \nprint(Dict) \n\n# Creating a Dictionary \n# with Mixed keys \nDict = {'Name': 'Yogesh Raghupati', 1: [1, 2, 3, 4]} \nprint(\"\\nDictionary with the use of Mixed Keys: \") \nprint(Dict) \n\n# Creating an empty Dictionary \nDict = {} \nprint(\"Empty Dictionary: \") \nprint(Dict) \n\n# Creating a Dictionary \n# with dict() method \nDict = dict({1: 'Yogesh', 2: 'Raghupati', 3:'LetsUpgrade.in'}) \nprint(\"\\nDictionary with the use of dict(): \") \nprint(Dict) \n\n# Creating a Dictionary \n# with each item as a Pair \nDict = dict([(1, 'Yogesh Raghupati'), (2, 'LetsUpgrade.in')]) \nprint(\"\\nDictionary with each item as a pair: \") \nprint(Dict) \n\n# Adding elements one at a time \nDict[0] = 'Geeks'\nDict[2] = 'For'\nDict[3] = 1\nprint(\"\\nDictionary after adding 3 elements: \") \nprint(Dict) \n\n# Accessing a element using get() \n# method \nprint(\"\\nAccessing a element using get:\") \nprint(Dict.get(3)) "
        },
        {
            "cell_type": "code",
            "execution_count": 50,
            "metadata": {},
            "outputs": [
                {
                    "name": "stdout",
                    "output_type": "stream",
                    "text": "Initial Dictionary: \n{5: 'Welcome', 6: 'To', 7: 'Geeks', 'A': {1: 'Geeks', 2: 'For', 3: 'Geeks'}, 'B': {1: 'Geeks', 2: 'Life'}}\n\nDeleting a specific key: \n{5: 'Welcome', 7: 'Geeks', 'A': {1: 'Geeks', 2: 'For', 3: 'Geeks'}, 'B': {1: 'Geeks', 2: 'Life'}}\n\nDeleting a key from Nested Dictionary: \n{5: 'Welcome', 7: 'Geeks', 'A': {1: 'Geeks', 3: 'Geeks'}, 'B': {1: 'Geeks', 2: 'Life'}}\n"
                }
            ],
            "source": "# Initial Dictionary \nDict = { 5 : 'Welcome', 6 : 'To', 7 : 'Geeks', \n\t\t'A' : {1 : 'Geeks', 2 : 'For', 3 : 'Geeks'}, \n\t\t'B' : {1 : 'Geeks', 2 : 'Life'}} \nprint(\"Initial Dictionary: \") \nprint(Dict) \n\n# Deleting a Key value \ndel Dict[6] \nprint(\"\\nDeleting a specific key: \") \nprint(Dict) \n\n# Deleting a Key from \n# Nested Dictionary \ndel Dict['A'][2] \nprint(\"\\nDeleting a key from Nested Dictionary: \") \nprint(Dict) \n"
        },
        {
            "cell_type": "code",
            "execution_count": 6,
            "metadata": {},
            "outputs": [
                {
                    "name": "stdout",
                    "output_type": "stream",
                    "text": "\nDictionary after deletion: {'name': 'For', 3: 'Geeks'}\nValue associated to poped key is: Geeks\n"
                }
            ],
            "source": "# Creating a Dictionary \nDict = {1: 'Geeks', 'name': 'For', 3: 'Geeks'} \n\n# Deleting a key \n# using pop() method \npop_ele = Dict.pop(1) \nprint('\\nDictionary after deletion: ' + str(Dict)) \nprint('Value associated to poped key is: ' + str(pop_ele)) \n"
        },
        {
            "cell_type": "code",
            "execution_count": 7,
            "metadata": {},
            "outputs": [
                {
                    "name": "stdout",
                    "output_type": "stream",
                    "text": "\nDeleting Entire Dictionary: \n{}\n"
                }
            ],
            "source": "# Creating a Dictionary \nDict = {1: 'Geeks', 'name': 'For', 3: 'Geeks'} \n\n\n# Deleting entire Dictionary \nDict.clear() \nprint(\"\\nDeleting Entire Dictionary: \") \nprint(Dict) \n"
        },
        {
            "cell_type": "markdown",
            "metadata": {},
            "source": "# 2. Sets and its Default Functions"
        },
        {
            "cell_type": "markdown",
            "metadata": {},
            "source": "In Python, <b> Set </b> is an unordered collection of data type that is iterable, mutable and has no duplicate elements. The order of elements in a set is undefined though it may consist of various elements.\n\nThe major advantage of using a set, as opposed to a list, is that it has a highly optimized method for checking whether a specific element is contained in the set.\n\n<b>Note \u2013 A set cannot have mutable elements like a list, set or dictionary, as its elements.</b>"
        },
        {
            "cell_type": "markdown",
            "metadata": {},
            "source": "<a href=\"https://ibb.co/1GmS6sc\"><img src=\"https://i.ibb.co/hFmqfX0/3.jpg\" alt=\"3\" border=\"0\"></a>"
        },
        {
            "cell_type": "markdown",
            "metadata": {},
            "source": "<a href=\"https://ibb.co/kK9bvkX\"><img src=\"https://i.ibb.co/qBWqVXp/4.jpg\" alt=\"4\" border=\"0\"></a>"
        },
        {
            "cell_type": "code",
            "execution_count": 8,
            "metadata": {},
            "outputs": [
                {
                    "name": "stdout",
                    "output_type": "stream",
                    "text": "Intial blank Set: \nset()\n\nSet with the use of String: \n{'o', 'e', 's', 'g', 'Y', 'h'}\n\nSet with the use of List: \n{'For', 'Geeks', 'Yogesh'}\n"
                }
            ],
            "source": "# Python program to demonstrate \n# Creation of Set in Python \n\n# Creating a Set \nset1 = set() \nprint(\"Intial blank Set: \") \nprint(set1) \n\n# Creating a Set with \n# the use of a String \nset1 = set(\"Yogesh\") \nprint(\"\\nSet with the use of String: \") \nprint(set1) \n\n# Creating a Set with \n# the use of a List \nset1 = set([\"Yogesh\", \"For\", \"Geeks\",\"Yogesh\"]) \nprint(\"\\nSet with the use of List: \") \nprint(set1) \n"
        },
        {
            "cell_type": "code",
            "execution_count": 9,
            "metadata": {},
            "outputs": [
                {
                    "name": "stdout",
                    "output_type": "stream",
                    "text": "\nSet after Addition of Three elements: \n{'Geeks', 'Yogesh', (6, 7), 8, 9, 'For'}\n\nSet after Addition of elements using Update: \n{4, 5, (6, 7), 10, 11}\n"
                }
            ],
            "source": "# Adding element and tuple to the Set \nset1.add(8) \nset1.add(9) \nset1.add((6,7)) \nprint(\"\\nSet after Addition of Three elements: \") \nprint(set1) \n\n# using Update function \nset1 = set([ 4, 5, (6, 7)]) \nset1.update([10, 11]) \nprint(\"\\nSet after Addition of elements using Update: \") \nprint(set1) \n  "
        },
        {
            "cell_type": "code",
            "execution_count": 10,
            "metadata": {
                "scrolled": true
            },
            "outputs": [
                {
                    "name": "stdout",
                    "output_type": "stream",
                    "text": "Intial Set: \n{1, 2, 3, 4, 5, 6, 7, 8, 9, 10, 11, 12}\n\nSet after Removal of two elements: \n{1, 2, 3, 4, 7, 8, 9, 10, 11, 12}\n\nSet after popping an element: \n{2, 3, 4, 7, 8, 9, 10, 11, 12}\n\nSet after clearing all the elements: \nset()\n"
                }
            ],
            "source": "# Creating a Set \nset1 = set([1, 2, 3, 4, 5, 6,  \n            7, 8, 9, 10, 11, 12]) \nprint(\"Intial Set: \") \nprint(set1) \n  \n# Removing elements from Set \n# using Remove() method \nset1.remove(5) \nset1.remove(6) \nprint(\"\\nSet after Removal of two elements: \") \nprint(set1) \n  \n# Removing element from the  \n# Set using the pop() method \nset1.pop() \nprint(\"\\nSet after popping an element: \") \nprint(set1) \n\n# Removing all the elements from  \n# Set using clear() method \nset1.clear() \nprint(\"\\nSet after clearing all the elements: \") \nprint(set1) "
        },
        {
            "cell_type": "markdown",
            "metadata": {},
            "source": "## <b><center> - THANK YOU - </center></b>"
        }
    ],
    "metadata": {
        "kernelspec": {
            "display_name": "Python 3.6",
            "language": "python",
            "name": "python3"
        },
        "language_info": {
            "codemirror_mode": {
                "name": "ipython",
                "version": 3
            },
            "file_extension": ".py",
            "mimetype": "text/x-python",
            "name": "python",
            "nbconvert_exporter": "python",
            "pygments_lexer": "ipython3",
            "version": "3.6.9"
        }
    },
    "nbformat": 4,
    "nbformat_minor": 4
}